{
  "nbformat": 4,
  "nbformat_minor": 0,
  "metadata": {
    "colab": {
      "provenance": [],
      "authorship_tag": "ABX9TyMTWIOkz8IIn6phzH0qgjm3",
      "include_colab_link": true
    },
    "kernelspec": {
      "name": "python3",
      "display_name": "Python 3"
    },
    "language_info": {
      "name": "python"
    }
  },
  "cells": [
    {
      "cell_type": "markdown",
      "metadata": {
        "id": "view-in-github",
        "colab_type": "text"
      },
      "source": [
        "<a href=\"https://colab.research.google.com/github/Sharmin2006/PYTHON-ASSIGNMENT/blob/main/Reverse_a_list.ipynb\" target=\"_parent\"><img src=\"https://colab.research.google.com/assets/colab-badge.svg\" alt=\"Open In Colab\"/></a>"
      ]
    },
    {
      "cell_type": "code",
      "execution_count": null,
      "metadata": {
        "colab": {
          "base_uri": "https://localhost:8080/"
        },
        "id": "-q4vjfr1SEa5",
        "outputId": "bf1a1b65-2694-4fd0-c939-6b9a2a995b5a"
      },
      "outputs": [
        {
          "output_type": "stream",
          "name": "stdout",
          "text": [
            "[5, 4, 3, 2, 1]\n"
          ]
        }
      ],
      "source": [
        "#Using the reverse method\n",
        "my_list=[1,2,3,4,5]\n",
        "my_list.reverse()\n",
        "print(my_list)"
      ]
    },
    {
      "cell_type": "code",
      "source": [
        "#Using the slicing\n",
        "my_list=[1,2,3,4,5]\n",
        "reversed_list=my_list[::-1]\n",
        "print(reversed_list)"
      ],
      "metadata": {
        "colab": {
          "base_uri": "https://localhost:8080/"
        },
        "id": "HiKhDyCyT04H",
        "outputId": "90494127-d7ea-4c9a-b978-08a35c8d9815"
      },
      "execution_count": null,
      "outputs": [
        {
          "output_type": "stream",
          "name": "stdout",
          "text": [
            "[5, 4, 3, 2, 1]\n"
          ]
        }
      ]
    },
    {
      "cell_type": "code",
      "source": [
        "#Using the reversed function\n",
        "my_list=[1,2,3,4,5]\n",
        "reversed_list=list(reversed(my_list))\n",
        "print(reversed_list)"
      ],
      "metadata": {
        "colab": {
          "base_uri": "https://localhost:8080/"
        },
        "id": "UoL6UEy0V4ex",
        "outputId": "cf841787-5483-4eaa-a647-bd3527a5874b"
      },
      "execution_count": null,
      "outputs": [
        {
          "output_type": "stream",
          "name": "stdout",
          "text": [
            "[5, 4, 3, 2, 1]\n"
          ]
        }
      ]
    },
    {
      "cell_type": "code",
      "source": [
        "#Using a loop\n",
        "my_l=[1,2,3,4,5]\n",
        "r_list=[]\n",
        "for i in my_l:\n",
        "  r_list.insert(0,i)\n",
        "print(r_list)"
      ],
      "metadata": {
        "colab": {
          "base_uri": "https://localhost:8080/"
        },
        "id": "E3BhcKnCWN3i",
        "outputId": "92e71a22-ece9-4471-e4d9-29324359cdd1"
      },
      "execution_count": null,
      "outputs": [
        {
          "output_type": "stream",
          "name": "stdout",
          "text": [
            "[5, 4, 3, 2, 1]\n"
          ]
        }
      ]
    },
    {
      "cell_type": "code",
      "source": [
        "#Using append method\n",
        "for i in range(len(my_list)-1,-1,-1):\n",
        "  reversed_list.append(my_list[i])"
      ],
      "metadata": {
        "id": "O3Sttg5FXogR"
      },
      "execution_count": null,
      "outputs": []
    }
  ]
}