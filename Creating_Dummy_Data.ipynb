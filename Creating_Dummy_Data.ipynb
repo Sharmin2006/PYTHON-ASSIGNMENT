{
  "nbformat": 4,
  "nbformat_minor": 0,
  "metadata": {
    "colab": {
      "provenance": [],
      "authorship_tag": "ABX9TyMQW2FpGbUELb9osWCjjEB4",
      "include_colab_link": true
    },
    "kernelspec": {
      "name": "python3",
      "display_name": "Python 3"
    },
    "language_info": {
      "name": "python"
    }
  },
  "cells": [
    {
      "cell_type": "markdown",
      "metadata": {
        "id": "view-in-github",
        "colab_type": "text"
      },
      "source": [
        "<a href=\"https://colab.research.google.com/github/Sharmin2006/PYTHON-ASSIGNMENT/blob/main/Creating_Dummy_Data.ipynb\" target=\"_parent\"><img src=\"https://colab.research.google.com/assets/colab-badge.svg\" alt=\"Open In Colab\"/></a>"
      ]
    },
    {
      "cell_type": "code",
      "execution_count": null,
      "metadata": {
        "colab": {
          "base_uri": "https://localhost:8080/"
        },
        "id": "yA7eQhgW6iYo",
        "outputId": "bf3ff25f-70e1-407c-a7b5-9ad485f16536"
      },
      "outputs": [
        {
          "output_type": "stream",
          "name": "stdout",
          "text": [
            "Collecting faker\n",
            "  Downloading Faker-26.0.0-py3-none-any.whl (1.8 MB)\n",
            "\u001b[2K     \u001b[90m━━━━━━━━━━━━━━━━━━━━━━━━━━━━━━━━━━━━━━━━\u001b[0m \u001b[32m1.8/1.8 MB\u001b[0m \u001b[31m5.5 MB/s\u001b[0m eta \u001b[36m0:00:00\u001b[0m\n",
            "\u001b[?25hRequirement already satisfied: python-dateutil>=2.4 in /usr/local/lib/python3.10/dist-packages (from faker) (2.8.2)\n",
            "Requirement already satisfied: six>=1.5 in /usr/local/lib/python3.10/dist-packages (from python-dateutil>=2.4->faker) (1.16.0)\n",
            "Installing collected packages: faker\n",
            "Successfully installed faker-26.0.0\n"
          ]
        }
      ],
      "source": [
        "pip install faker"
      ]
    },
    {
      "cell_type": "code",
      "source": [
        "from faker import Faker\n",
        "fake=Faker()\n",
        "print(fake.name())\n",
        "print(fake.address())\n",
        "print(fake.text())\n",
        "print(fake.email())\n",
        "print(fake.country())\n",
        "print(fake.latitude(),fake.longitude())\n",
        "print(fake.url())"
      ],
      "metadata": {
        "colab": {
          "base_uri": "https://localhost:8080/"
        },
        "id": "5ODnT0EN7COE",
        "outputId": "425a480e-cba3-4278-8195-0038ab1b7197"
      },
      "execution_count": null,
      "outputs": [
        {
          "output_type": "stream",
          "name": "stdout",
          "text": [
            "Brian Kelley\n",
            "5010 Mary Manors Apt. 596\n",
            "Meganview, IL 70258\n",
            "Degree again despite simple blood hotel teacher. Or thank with fact natural growth likely. Class age other drug statement. Anyone however information lay attention key.\n",
            "howard67@example.org\n",
            "Guam\n",
            "-22.894762 -6.875791\n",
            "https://www.harris.com/\n"
          ]
        }
      ]
    }
  ]
}