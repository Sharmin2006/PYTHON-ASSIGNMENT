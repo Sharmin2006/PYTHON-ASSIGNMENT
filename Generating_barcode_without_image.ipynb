{
  "nbformat": 4,
  "nbformat_minor": 0,
  "metadata": {
    "colab": {
      "provenance": [],
      "authorship_tag": "ABX9TyORCZF0NXrR3cBqn4RZxa7V",
      "include_colab_link": true
    },
    "kernelspec": {
      "name": "python3",
      "display_name": "Python 3"
    },
    "language_info": {
      "name": "python"
    }
  },
  "cells": [
    {
      "cell_type": "markdown",
      "metadata": {
        "id": "view-in-github",
        "colab_type": "text"
      },
      "source": [
        "<a href=\"https://colab.research.google.com/github/Sharmin2006/PYTHON-ASSIGNMENT/blob/main/Generating_barcode_without_image.ipynb\" target=\"_parent\"><img src=\"https://colab.research.google.com/assets/colab-badge.svg\" alt=\"Open In Colab\"/></a>"
      ]
    },
    {
      "cell_type": "code",
      "execution_count": null,
      "metadata": {
        "colab": {
          "base_uri": "https://localhost:8080/"
        },
        "id": "ohvGf4zs68Oz",
        "outputId": "45f1576f-4604-4d9b-f233-f0ada3068248"
      },
      "outputs": [
        {
          "output_type": "stream",
          "name": "stdout",
          "text": [
            "Collecting python-barcode\n",
            "  Downloading python_barcode-0.15.1-py3-none-any.whl (212 kB)\n",
            "\u001b[2K     \u001b[90m━━━━━━━━━━━━━━━━━━━━━━━━━━━━━━━━━━━━━━━━\u001b[0m \u001b[32m213.0/213.0 kB\u001b[0m \u001b[31m2.5 MB/s\u001b[0m eta \u001b[36m0:00:00\u001b[0m\n",
            "\u001b[?25hInstalling collected packages: python-barcode\n",
            "Successfully installed python-barcode-0.15.1\n"
          ]
        }
      ],
      "source": [
        "pip install python-barcode\n"
      ]
    },
    {
      "cell_type": "code",
      "source": [
        "import barcode\n",
        "from barcode import Code128\n",
        "\n",
        "def generate_barcode(data):\n",
        "  code=Code128(data)\n",
        "  code.save(\"barcode\")\n",
        "  print(\"Barcode generated.\")\n",
        "\n",
        "data=\"1234-5678-9012\"\n",
        "generate_barcode(data)\n"
      ],
      "metadata": {
        "colab": {
          "base_uri": "https://localhost:8080/"
        },
        "id": "RzAFnTbn7WcG",
        "outputId": "90491640-7309-4154-830f-f3f190b3f7b0"
      },
      "execution_count": null,
      "outputs": [
        {
          "output_type": "stream",
          "name": "stdout",
          "text": [
            "Barcode generated.\n"
          ]
        }
      ]
    }
  ]
}